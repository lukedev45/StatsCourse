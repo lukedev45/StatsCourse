{
 "cells": [
  {
   "cell_type": "markdown",
   "id": "164ab3c0",
   "metadata": {},
   "source": [
    "# Statistics Basics — Exercises\n",
    "\n",
    "Use this notebook to go over everything that is covered in the videos"
   ]
  },
  {
   "cell_type": "markdown",
   "id": "96214cf4",
   "metadata": {},
   "source": [
    "## 0. Setup\n",
    "Make sure to run\n",
    "```bash\n",
    "pip install -r requirements.txt\n",
    "```\n",
    "As a data guru you will need to be extremely familiar with pandas, numpy and matplotlib"
   ]
  },
  {
   "cell_type": "code",
   "id": "28f175c6",
   "metadata": {
    "ExecuteTime": {
     "end_time": "2025-09-25T18:20:56.081758Z",
     "start_time": "2025-09-25T18:20:55.900117Z"
    }
   },
   "source": [
    "#\n",
    "import numpy as np\n",
    "import pandas as pd\n",
    "import matplotlib.pyplot as plt\n",
    "\n",
    "# For consistent random examples (you may change the seed)\n",
    "rng = np.random.default_rng(42)\n",
    "\n",
    "pd.set_option('display.precision', 3)\n"
   ],
   "outputs": [
    {
     "ename": "ModuleNotFoundError",
     "evalue": "No module named 'pandas'",
     "output_type": "error",
     "traceback": [
      "\u001B[0;31m---------------------------------------------------------------------------\u001B[0m",
      "\u001B[0;31mModuleNotFoundError\u001B[0m                       Traceback (most recent call last)",
      "Cell \u001B[0;32mIn[1], line 3\u001B[0m\n\u001B[1;32m      1\u001B[0m \u001B[38;5;66;03m#\u001B[39;00m\n\u001B[1;32m      2\u001B[0m \u001B[38;5;28;01mimport\u001B[39;00m \u001B[38;5;21;01mnumpy\u001B[39;00m \u001B[38;5;28;01mas\u001B[39;00m \u001B[38;5;21;01mnp\u001B[39;00m\n\u001B[0;32m----> 3\u001B[0m \u001B[38;5;28;01mimport\u001B[39;00m \u001B[38;5;21;01mpandas\u001B[39;00m \u001B[38;5;28;01mas\u001B[39;00m \u001B[38;5;21;01mpd\u001B[39;00m\n\u001B[1;32m      4\u001B[0m \u001B[38;5;28;01mimport\u001B[39;00m \u001B[38;5;21;01mmatplotlib\u001B[39;00m\u001B[38;5;21;01m.\u001B[39;00m\u001B[38;5;21;01mpyplot\u001B[39;00m \u001B[38;5;28;01mas\u001B[39;00m \u001B[38;5;21;01mplt\u001B[39;00m\n\u001B[1;32m      6\u001B[0m \u001B[38;5;66;03m# For consistent random examples (you may change the seed)\u001B[39;00m\n",
      "\u001B[0;31mModuleNotFoundError\u001B[0m: No module named 'pandas'"
     ]
    }
   ],
   "execution_count": 1
  },
  {
   "cell_type": "code",
   "id": "1eca7176",
   "metadata": {
    "ExecuteTime": {
     "end_time": "2025-09-23T15:15:06.364887Z",
     "start_time": "2025-09-23T15:15:06.335488Z"
    }
   },
   "source": [
    "### This is your example data, DON'T TOUCH unless you know what you are doing or just want to cheat (don't)\n",
    "n = 50\n",
    "ages = rng.normal(35, 8, size=n).round().astype(int)\n",
    "salaries = rng.normal(55000, 12000, size=n).round(2)\n",
    "departments = rng.choice(['Sales', 'Marketing', 'Engineering', 'HR'], size=n)\n",
    "satisfaction_levels = rng.choice(['Poor', 'Fair', 'Good', 'Excellent'], size=n, p=[0.15, 0.25, 0.4, 0.2])\n",
    "clicks = rng.integers(0, 2, size=n)\n",
    "orders_per_day = rng.poisson(lam=5, size=n)\n",
    "\n",
    "df = pd.DataFrame({\n",
    "    'age': ages,\n",
    "    'salary': salaries,\n",
    "    'department': departments,\n",
    "    'satisfaction': satisfaction_levels,\n",
    "    'click': clicks,\n",
    "    'orders_per_day': orders_per_day\n",
    "})\n",
    "\n",
    "income_demo = np.array([30_000, 32_000, 35_000, 37_000, 38_000, 40_000, 42_000, 45_000, 48_000, 50_000, 500_000])\n",
    "\n",
    "df.head()\n"
   ],
   "outputs": [
    {
     "data": {
      "text/plain": [
       "   age    salary department satisfaction  click  orders_per_day\n",
       "0   37  58469.43  Marketing         Poor      1               2\n",
       "1   27  62575.46  Marketing         Poor      1               3\n",
       "2   41  37514.13         HR         Good      0               7\n",
       "3   43  51163.95         HR         Fair      1               4\n",
       "4   19  49355.53  Marketing    Excellent      0               4"
      ],
      "text/html": [
       "<div>\n",
       "<style scoped>\n",
       "    .dataframe tbody tr th:only-of-type {\n",
       "        vertical-align: middle;\n",
       "    }\n",
       "\n",
       "    .dataframe tbody tr th {\n",
       "        vertical-align: top;\n",
       "    }\n",
       "\n",
       "    .dataframe thead th {\n",
       "        text-align: right;\n",
       "    }\n",
       "</style>\n",
       "<table border=\"1\" class=\"dataframe\">\n",
       "  <thead>\n",
       "    <tr style=\"text-align: right;\">\n",
       "      <th></th>\n",
       "      <th>age</th>\n",
       "      <th>salary</th>\n",
       "      <th>department</th>\n",
       "      <th>satisfaction</th>\n",
       "      <th>click</th>\n",
       "      <th>orders_per_day</th>\n",
       "    </tr>\n",
       "  </thead>\n",
       "  <tbody>\n",
       "    <tr>\n",
       "      <th>0</th>\n",
       "      <td>37</td>\n",
       "      <td>58469.43</td>\n",
       "      <td>Marketing</td>\n",
       "      <td>Poor</td>\n",
       "      <td>1</td>\n",
       "      <td>2</td>\n",
       "    </tr>\n",
       "    <tr>\n",
       "      <th>1</th>\n",
       "      <td>27</td>\n",
       "      <td>62575.46</td>\n",
       "      <td>Marketing</td>\n",
       "      <td>Poor</td>\n",
       "      <td>1</td>\n",
       "      <td>3</td>\n",
       "    </tr>\n",
       "    <tr>\n",
       "      <th>2</th>\n",
       "      <td>41</td>\n",
       "      <td>37514.13</td>\n",
       "      <td>HR</td>\n",
       "      <td>Good</td>\n",
       "      <td>0</td>\n",
       "      <td>7</td>\n",
       "    </tr>\n",
       "    <tr>\n",
       "      <th>3</th>\n",
       "      <td>43</td>\n",
       "      <td>51163.95</td>\n",
       "      <td>HR</td>\n",
       "      <td>Fair</td>\n",
       "      <td>1</td>\n",
       "      <td>4</td>\n",
       "    </tr>\n",
       "    <tr>\n",
       "      <th>4</th>\n",
       "      <td>19</td>\n",
       "      <td>49355.53</td>\n",
       "      <td>Marketing</td>\n",
       "      <td>Excellent</td>\n",
       "      <td>0</td>\n",
       "      <td>4</td>\n",
       "    </tr>\n",
       "  </tbody>\n",
       "</table>\n",
       "</div>"
      ]
     },
     "execution_count": 2,
     "metadata": {},
     "output_type": "execute_result"
    }
   ],
   "execution_count": 2
  },
  {
   "cell_type": "markdown",
   "id": "8a74fa90",
   "metadata": {},
   "source": [
    "## 1. Descriptive vs. Inferential Statistics\n",
    "**Q1.** In your own words, define *descriptive* vs *inferential* statistics.\n",
    "\n",
    "**Q2.** Given our synthetic dataset `df`, list **three** examples of descriptive statistics you could compute. Then state **one** inferential question you might ask about a larger population."
   ]
  },
  {
   "cell_type": "markdown",
   "id": "75be6431",
   "metadata": {},
   "source": [
    "> ✍️ **Your answers (write here):**\n",
    "\n",
    "- Descriptive:\n",
    "  1.\n",
    "  2.\n",
    "  3.\n",
    "- Inferential question:\n",
    "  - "
   ]
  },
  {
   "cell_type": "markdown",
   "id": "630d1d1a",
   "metadata": {},
   "source": [
    "## 2. Data Types (Nominal vs. Ordinal; Numeric)\n",
    "**Q3.** For each column in df, decide if it’s:\n",
    "\n",
    "-Numeric\n",
    "\n",
    "-Categorical (labels with no order)\n",
    "\n",
    "-Categorical (labels with a natural order)\n",
    "\n",
    "Write your answers in plain text.\n",
    "\n",
    "**Q4.** Look at the column satisfaction. Which levels are “higher” and which are “lower”? Write them in the correct order (from worst to best)."
   ]
  },
  {
   "cell_type": "code",
   "id": "40388d65",
   "metadata": {
    "ExecuteTime": {
     "end_time": "2025-09-23T15:32:09.787336Z",
     "start_time": "2025-09-23T15:32:09.783174Z"
    }
   },
   "source": [
    "### Use this block to explore the different columns\n",
    "### Remember that the dataframe is called df and to call a particular column we write df['column']"
   ],
   "outputs": [],
   "execution_count": 9
  },
  {
   "cell_type": "markdown",
   "id": "288cc5a8",
   "metadata": {},
   "source": [
    "## 3. Measures of Center (Mean, Median, Mode)\n",
    "Consider `income_demo` and `df['salary']`.\n",
    "\n",
    "**Q5.** Compute the **mean**, **median**, and **mode** of `income_demo`. Which measure best represents the typical income here and why?\n",
    "\n",
    "**Q6.** Compute mean and median of `df['salary']`. Create a simple histogram to visualize the distribution of salaries."
   ]
  },
  {
   "cell_type": "code",
   "id": "35c95476",
   "metadata": {
    "ExecuteTime": {
     "end_time": "2025-09-23T15:31:56.722780Z",
     "start_time": "2025-09-23T15:31:56.712495Z"
    }
   },
   "source": [
    "### Numpy doesn't have a mode function built in so you will need to use the Statistics module which is built in with python\n",
    "from statistics import mode"
   ],
   "outputs": [
    {
     "data": {
      "text/plain": [
       "(np.float64(81545.45454545454), np.float64(40000.0), np.int64(30000))"
      ]
     },
     "execution_count": 8,
     "metadata": {},
     "output_type": "execute_result"
    }
   ],
   "execution_count": 8
  },
  {
   "cell_type": "code",
   "id": "fd075b8f",
   "metadata": {
    "ExecuteTime": {
     "end_time": "2025-09-23T15:17:20.364195Z",
     "start_time": "2025-09-23T15:17:20.217483Z"
    }
   },
   "source": "# Use matplotlib to create a histogram\n",
   "outputs": [
    {
     "name": "stdout",
     "output_type": "stream",
     "text": [
      "Mean salary: 52698.99679999999\n",
      "Median salary: 51493.065\n"
     ]
    },
    {
     "data": {
      "text/plain": [
       "<Figure size 640x480 with 1 Axes>"
      ],
      "image/png": "[encoded data removed]"
     },
     "metadata": {},
     "output_type": "display_data",
     "jetTransient": {
      "display_id": null
     }
    }
   ],
   "execution_count": 5
  },
  {
   "cell_type": "markdown",
   "id": "d480ee38",
   "metadata": {},
   "source": [
    "## 4. Measures of Spread (SD and MAD)\n",
    "For `df['salary']`:\n",
    "\n",
    "**Q7.** Compute the **population standard deviation** (`ddof=0`) and the **sample standard deviation** (`ddof=1`). Which would you report if this is a sample from a larger population, and why?\n",
    "\n",
    "**Q8.** Implement a function to compute the **mean absolute deviation (MAD)** about the mean and about the median. Compare MAD(mean) and MAD(median)."
   ]
  },
  {
   "cell_type": "code",
   "execution_count": null,
   "id": "cb047637",
   "metadata": {},
   "outputs": [],
   "source": "# Compute SD with ddof=0 and ddof=1"
  },
  {
   "cell_type": "code",
   "execution_count": null,
   "id": "f0db7c14",
   "metadata": {},
   "outputs": [],
   "source": "# Implement MAD, note the difference in the mean absolute difference and the median absolute difference\n"
  },
  {
   "cell_type": "markdown",
   "id": "d57bc420",
   "metadata": {},
   "source": [
    "## 5. Quartiles and IQR\n",
    "**Q9.** Compute Q1, Q2 (median), Q3, and the **IQR** for `df['age']`.\n",
    "\n",
    "**Q10.** Make a **boxplot** for `df['age']` and describe what you see (center, spread, potential outliers)."
   ]
  },
  {
   "cell_type": "code",
   "execution_count": null,
   "id": "c78a255f",
   "metadata": {},
   "outputs": [],
   "source": "# Compute quartiles and IQR for age"
  },
  {
   "cell_type": "code",
   "execution_count": null,
   "id": "229077a7",
   "metadata": {},
   "outputs": [],
   "source": "# Boxplot for age, you can use plt.boxplot here (read the docs, ALWAYS READ THE DOCS)"
  },
  {
   "cell_type": "markdown",
   "id": "fd4edfa0",
   "metadata": {},
   "source": [
    "## 6. Mini-Project: Department Comparison\n",
    "**Q11.** Using `df`, compute and compare summary statistics of `salary` by `department` (mean, median, SD (ddof=1), MAD about median). Which department appears to have the highest typical salary, and which shows the greatest variability?\n",
    "\n",
    "**Q12.** For `orders_per_day`, compute quartiles and IQR by department. Do you see notable differences?"
   ]
  },
  {
   "cell_type": "code",
   "id": "a8aea417",
   "metadata": {
    "ExecuteTime": {
     "end_time": "2025-09-23T15:17:33.127925Z",
     "start_time": "2025-09-23T15:17:33.082889Z"
    }
   },
   "source": "# Groupby summaries",
   "outputs": [
    {
     "data": {
      "text/plain": [
       "                  mean     median         sd   mad_med\n",
       "department                                            \n",
       "Engineering  55620.350  58533.740  10923.635  8277.583\n",
       "HR           48197.105  48626.945   8755.685  6561.867\n",
       "Marketing    52295.031  50700.265   8084.024  6255.382\n",
       "Sales        54067.842  55385.605   8705.148  6823.302"
      ],
      "text/html": [
       "<div>\n",
       "<style scoped>\n",
       "    .dataframe tbody tr th:only-of-type {\n",
       "        vertical-align: middle;\n",
       "    }\n",
       "\n",
       "    .dataframe tbody tr th {\n",
       "        vertical-align: top;\n",
       "    }\n",
       "\n",
       "    .dataframe thead th {\n",
       "        text-align: right;\n",
       "    }\n",
       "</style>\n",
       "<table border=\"1\" class=\"dataframe\">\n",
       "  <thead>\n",
       "    <tr style=\"text-align: right;\">\n",
       "      <th></th>\n",
       "      <th>mean</th>\n",
       "      <th>median</th>\n",
       "      <th>sd</th>\n",
       "      <th>mad_med</th>\n",
       "    </tr>\n",
       "    <tr>\n",
       "      <th>department</th>\n",
       "      <th></th>\n",
       "      <th></th>\n",
       "      <th></th>\n",
       "      <th></th>\n",
       "    </tr>\n",
       "  </thead>\n",
       "  <tbody>\n",
       "    <tr>\n",
       "      <th>Engineering</th>\n",
       "      <td>55620.350</td>\n",
       "      <td>58533.740</td>\n",
       "      <td>10923.635</td>\n",
       "      <td>8277.583</td>\n",
       "    </tr>\n",
       "    <tr>\n",
       "      <th>HR</th>\n",
       "      <td>48197.105</td>\n",
       "      <td>48626.945</td>\n",
       "      <td>8755.685</td>\n",
       "      <td>6561.867</td>\n",
       "    </tr>\n",
       "    <tr>\n",
       "      <th>Marketing</th>\n",
       "      <td>52295.031</td>\n",
       "      <td>50700.265</td>\n",
       "      <td>8084.024</td>\n",
       "      <td>6255.382</td>\n",
       "    </tr>\n",
       "    <tr>\n",
       "      <th>Sales</th>\n",
       "      <td>54067.842</td>\n",
       "      <td>55385.605</td>\n",
       "      <td>8705.148</td>\n",
       "      <td>6823.302</td>\n",
       "    </tr>\n",
       "  </tbody>\n",
       "</table>\n",
       "</div>"
      ]
     },
     "execution_count": 6,
     "metadata": {},
     "output_type": "execute_result"
    }
   ],
   "execution_count": 6
  },
  {
   "cell_type": "code",
   "id": "f083dae2",
   "metadata": {
    "ExecuteTime": {
     "end_time": "2025-09-23T15:17:36.489595Z",
     "start_time": "2025-09-23T15:17:36.460092Z"
    }
   },
   "source": "# Group orders_per_day quartiles by department",
   "outputs": [
    {
     "data": {
      "text/plain": [
       "               Q1   Q2    Q3   IQR\n",
       "department                        \n",
       "Engineering  4.00  4.5  5.50  1.50\n",
       "HR           4.25  5.0  7.00  2.75\n",
       "Marketing    3.75  6.0  6.25  2.50\n",
       "Sales        2.00  3.0  5.25  3.25"
      ],
      "text/html": [
       "<div>\n",
       "<style scoped>\n",
       "    .dataframe tbody tr th:only-of-type {\n",
       "        vertical-align: middle;\n",
       "    }\n",
       "\n",
       "    .dataframe tbody tr th {\n",
       "        vertical-align: top;\n",
       "    }\n",
       "\n",
       "    .dataframe thead th {\n",
       "        text-align: right;\n",
       "    }\n",
       "</style>\n",
       "<table border=\"1\" class=\"dataframe\">\n",
       "  <thead>\n",
       "    <tr style=\"text-align: right;\">\n",
       "      <th></th>\n",
       "      <th>Q1</th>\n",
       "      <th>Q2</th>\n",
       "      <th>Q3</th>\n",
       "      <th>IQR</th>\n",
       "    </tr>\n",
       "    <tr>\n",
       "      <th>department</th>\n",
       "      <th></th>\n",
       "      <th></th>\n",
       "      <th></th>\n",
       "      <th></th>\n",
       "    </tr>\n",
       "  </thead>\n",
       "  <tbody>\n",
       "    <tr>\n",
       "      <th>Engineering</th>\n",
       "      <td>4.00</td>\n",
       "      <td>4.5</td>\n",
       "      <td>5.50</td>\n",
       "      <td>1.50</td>\n",
       "    </tr>\n",
       "    <tr>\n",
       "      <th>HR</th>\n",
       "      <td>4.25</td>\n",
       "      <td>5.0</td>\n",
       "      <td>7.00</td>\n",
       "      <td>2.75</td>\n",
       "    </tr>\n",
       "    <tr>\n",
       "      <th>Marketing</th>\n",
       "      <td>3.75</td>\n",
       "      <td>6.0</td>\n",
       "      <td>6.25</td>\n",
       "      <td>2.50</td>\n",
       "    </tr>\n",
       "    <tr>\n",
       "      <th>Sales</th>\n",
       "      <td>2.00</td>\n",
       "      <td>3.0</td>\n",
       "      <td>5.25</td>\n",
       "      <td>3.25</td>\n",
       "    </tr>\n",
       "  </tbody>\n",
       "</table>\n",
       "</div>"
      ]
     },
     "execution_count": 7,
     "metadata": {},
     "output_type": "execute_result"
    }
   ],
   "execution_count": 7
  },
  {
   "cell_type": "markdown",
   "id": "6d5a9cee",
   "metadata": {},
   "source": [
    "## 7. Wrap-up\n",
    "Write a short paragraph summarizing what you found most interesting or surprising in this dataset.\n",
    "\n",
    "> ✍️ **Your reflection:**\n",
    "\n",
    "- "
   ]
  }
 ],
 "metadata": {
  "kernelspec": {
   "name": "python3",
   "language": "python",
   "display_name": "Python 3 (ipykernel)"
  }
 },
 "nbformat": 4,
 "nbformat_minor": 5
}
