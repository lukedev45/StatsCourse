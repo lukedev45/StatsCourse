{
 "cells": [
  {
   "metadata": {},
   "cell_type": "markdown",
   "source": [
    "# Statistics Basics — Solutions\n",
    "\n",
    "This notebook contains worked solutions corresponding to the exercises notebook."
   ],
   "id": "d7639990"
  },
  {
   "cell_type": "markdown",
   "id": "149d3add",
   "metadata": {},
   "source": [
    "## 0. Setup"
   ]
  },
  {
   "cell_type": "code",
   "id": "80d55bc4",
   "metadata": {
    "ExecuteTime": {
     "end_time": "2025-09-23T15:17:05.765026Z",
     "start_time": "2025-09-23T15:17:05.758057Z"
    }
   },
   "source": [
    "# Setup: run this cell first\n",
    "import numpy as np\n",
    "import pandas as pd\n",
    "import matplotlib.pyplot as plt\n",
    "\n",
    "# for consistent random examples (you may change the seed)\n",
    "rng = np.random.default_rng(42)\n",
    "\n",
    "pd.set_option('display.precision', 3)\n"
   ],
   "outputs": [],
   "execution_count": 4
  },
  {
   "cell_type": "code",
   "id": "196ae0da",
   "metadata": {
    "ExecuteTime": {
     "end_time": "2025-09-23T15:17:05.844044Z",
     "start_time": "2025-09-23T15:17:05.817451Z"
    }
   },
   "source": [
    "# Generate a small synthetic dataset for exercises\n",
    "#\n",
    "# Columns:\n",
    "# - age (numeric)\n",
    "# - salary (numeric)\n",
    "# - department (categorical nominal)\n",
    "# - satisfaction (categorical ordinal: 'Poor' < 'Fair' < 'Good' < 'Excellent')\n",
    "# - clicks (binary numeric: 0/1)\n",
    "# - orders_per_day (count; can be modeled as Poisson-ish)\n",
    "#\n",
    "n = 50\n",
    "ages = rng.normal(35, 8, size=n).round().astype(int)\n",
    "salaries = rng.normal(55000, 12000, size=n).round(2)\n",
    "departments = rng.choice(['Sales', 'Marketing', 'Engineering', 'HR'], size=n)\n",
    "satisfaction_levels = rng.choice(['Poor', 'Fair', 'Good', 'Excellent'], size=n, p=[0.15, 0.25, 0.4, 0.2])\n",
    "clicks = rng.integers(0, 2, size=n)\n",
    "orders_per_day = rng.poisson(lam=5, size=n)\n",
    "\n",
    "df = pd.DataFrame({\n",
    "    'age': ages,\n",
    "    'salary': salaries,\n",
    "    'department': departments,\n",
    "    'satisfaction': satisfaction_levels,\n",
    "    'click': clicks,\n",
    "    'orders_per_day': orders_per_day\n",
    "})\n",
    "\n",
    "# An intentionally skewed variable for median vs. mean demo\n",
    "# few very high values to create right skew\n",
    "income_demo = np.array([30_000, 32_000, 35_000, 37_000, 38_000, 40_000, 42_000, 45_000, 48_000, 50_000, 500_000])\n",
    "\n",
    "df.head()\n"
   ],
   "outputs": [
    {
     "data": {
      "text/plain": [
       "   age    salary department satisfaction  click  orders_per_day\n",
       "0   37  58469.43  Marketing         Poor      1               2\n",
       "1   27  62575.46  Marketing         Poor      1               3\n",
       "2   41  37514.13         HR         Good      0               7\n",
       "3   43  51163.95         HR         Fair      1               4\n",
       "4   19  49355.53  Marketing    Excellent      0               4"
      ],
      "text/html": [
       "<div>\n",
       "<style scoped>\n",
       "    .dataframe tbody tr th:only-of-type {\n",
       "        vertical-align: middle;\n",
       "    }\n",
       "\n",
       "    .dataframe tbody tr th {\n",
       "        vertical-align: top;\n",
       "    }\n",
       "\n",
       "    .dataframe thead th {\n",
       "        text-align: right;\n",
       "    }\n",
       "</style>\n",
       "<table border=\"1\" class=\"dataframe\">\n",
       "  <thead>\n",
       "    <tr style=\"text-align: right;\">\n",
       "      <th></th>\n",
       "      <th>age</th>\n",
       "      <th>salary</th>\n",
       "      <th>department</th>\n",
       "      <th>satisfaction</th>\n",
       "      <th>click</th>\n",
       "      <th>orders_per_day</th>\n",
       "    </tr>\n",
       "  </thead>\n",
       "  <tbody>\n",
       "    <tr>\n",
       "      <th>0</th>\n",
       "      <td>37</td>\n",
       "      <td>58469.43</td>\n",
       "      <td>Marketing</td>\n",
       "      <td>Poor</td>\n",
       "      <td>1</td>\n",
       "      <td>2</td>\n",
       "    </tr>\n",
       "    <tr>\n",
       "      <th>1</th>\n",
       "      <td>27</td>\n",
       "      <td>62575.46</td>\n",
       "      <td>Marketing</td>\n",
       "      <td>Poor</td>\n",
       "      <td>1</td>\n",
       "      <td>3</td>\n",
       "    </tr>\n",
       "    <tr>\n",
       "      <th>2</th>\n",
       "      <td>41</td>\n",
       "      <td>37514.13</td>\n",
       "      <td>HR</td>\n",
       "      <td>Good</td>\n",
       "      <td>0</td>\n",
       "      <td>7</td>\n",
       "    </tr>\n",
       "    <tr>\n",
       "      <th>3</th>\n",
       "      <td>43</td>\n",
       "      <td>51163.95</td>\n",
       "      <td>HR</td>\n",
       "      <td>Fair</td>\n",
       "      <td>1</td>\n",
       "      <td>4</td>\n",
       "    </tr>\n",
       "    <tr>\n",
       "      <th>4</th>\n",
       "      <td>19</td>\n",
       "      <td>49355.53</td>\n",
       "      <td>Marketing</td>\n",
       "      <td>Excellent</td>\n",
       "      <td>0</td>\n",
       "      <td>4</td>\n",
       "    </tr>\n",
       "  </tbody>\n",
       "</table>\n",
       "</div>"
      ]
     },
     "execution_count": 5,
     "metadata": {},
     "output_type": "execute_result"
    }
   ],
   "execution_count": 5
  },
  {
   "cell_type": "markdown",
   "id": "c14b5588",
   "metadata": {},
   "source": [
    "## 1. Descriptive vs. Inferential Statistics — Solutions\n",
    "**A1.** Descriptive statistics summarize observed data (e.g., mean salary, median age, SD of clicks). Inferential statistics generalize beyond the sample (e.g., estimating the population mean salary or testing whether two departments differ in average salary).\n",
    "\n",
    "**A2.** Examples of descriptive stats: (i) mean salary, (ii) median age, (iii) proportion of clicks. Example inferential question: *Is the mean salary in Engineering higher than in Marketing in the population?*"
   ]
  },
  {
   "cell_type": "markdown",
   "id": "d053673d",
   "metadata": {},
   "source": [
    "## 2. Data Types — Solutions\n",
    "**A3.**\n",
    "- age: numeric\n",
    "- salary: numeric\n",
    "- department: categorical (nominal, no order)\n",
    "- satisfaction: categorical (ordinal, has order)\n",
    "- click: numeric binary (0/1) — can also be treated as categorical\n",
    "- orders_per_day: numeric (counts)\n",
    "\n",
    "**A4.** Order: Poor < Fair < Good < Excellent"
   ]
  },
  {
   "cell_type": "code",
   "id": "a5fb4e6e",
   "metadata": {
    "ExecuteTime": {
     "end_time": "2025-09-23T15:32:32.459197Z",
     "start_time": "2025-09-23T15:32:32.450660Z"
    }
   },
   "source": [
    "ordered = pd.CategoricalDtype(categories=['Poor','Fair','Good','Excellent'], ordered=True)\n",
    "df['satisfaction_ord'] = df['satisfaction'].astype(ordered)\n",
    "df['satisfaction_ord']"
   ],
   "outputs": [
    {
     "data": {
      "text/plain": [
       "0          Poor\n",
       "1          Poor\n",
       "2          Good\n",
       "3          Fair\n",
       "4     Excellent\n",
       "5          Good\n",
       "6          Fair\n",
       "7          Good\n",
       "8          Poor\n",
       "9     Excellent\n",
       "10         Good\n",
       "11         Good\n",
       "12         Poor\n",
       "13         Good\n",
       "14         Good\n",
       "15    Excellent\n",
       "16         Good\n",
       "17         Good\n",
       "18         Fair\n",
       "19         Fair\n",
       "20         Good\n",
       "21         Good\n",
       "22         Poor\n",
       "23    Excellent\n",
       "24    Excellent\n",
       "25         Poor\n",
       "26         Good\n",
       "27         Poor\n",
       "28         Good\n",
       "29         Fair\n",
       "30         Good\n",
       "31         Good\n",
       "32         Good\n",
       "33         Poor\n",
       "34    Excellent\n",
       "35         Fair\n",
       "36         Poor\n",
       "37         Good\n",
       "38         Fair\n",
       "39    Excellent\n",
       "40    Excellent\n",
       "41         Fair\n",
       "42    Excellent\n",
       "43         Fair\n",
       "44         Good\n",
       "45         Fair\n",
       "46    Excellent\n",
       "47         Fair\n",
       "48         Poor\n",
       "49         Good\n",
       "Name: satisfaction_ord, dtype: category\n",
       "Categories (4, object): ['Poor' < 'Fair' < 'Good' < 'Excellent']"
      ]
     },
     "execution_count": 10,
     "metadata": {},
     "output_type": "execute_result"
    }
   ],
   "execution_count": 10
  },
  {
   "cell_type": "markdown",
   "id": "9c6b5cf9",
   "metadata": {},
   "source": [
    "## 3. Measures of Center — Solutions\n",
    "**A5.** Mean/median/mode for `income_demo` and interpretation: The distribution is right-skewed due to a very large value (500,000). Median better represents the typical income than the mean. Mode may be undefined or not informative here.\n",
    "\n",
    "**A6.** Mean vs median salary and histogram:"
   ]
  },
  {
   "cell_type": "code",
   "id": "d983a8da",
   "metadata": {
    "ExecuteTime": {
     "end_time": "2025-09-23T15:34:13.197355Z",
     "start_time": "2025-09-23T15:34:13.186752Z"
    }
   },
   "source": [
    "from statistics import mode\n",
    "mean_income = np.mean(income_demo)\n",
    "median_income = np.median(income_demo)\n",
    "mode_income = mode(income_demo)\n",
    "mean_income, median_income, mode_income"
   ],
   "outputs": [
    {
     "data": {
      "text/plain": [
       "(np.float64(81545.45454545454), np.float64(40000.0), np.int64(30000))"
      ]
     },
     "execution_count": 11,
     "metadata": {},
     "output_type": "execute_result"
    }
   ],
   "execution_count": 11
  },
  {
   "cell_type": "code",
   "id": "642c0f58",
   "metadata": {
    "ExecuteTime": {
     "end_time": "2025-09-23T15:17:10.302649Z",
     "start_time": "2025-09-23T15:17:10.108747Z"
    }
   },
   "source": [
    "mean_salary = df['salary'].mean()\n",
    "median_salary = df['salary'].median()\n",
    "print('Mean salary:', mean_salary)\n",
    "print('Median salary:', median_salary)\n",
    "plt.figure()\n",
    "plt.hist(df['salary'], bins=10)\n",
    "plt.title('Salary distribution')\n",
    "plt.xlabel('Salary')\n",
    "plt.ylabel('Count')\n",
    "plt.show()"
   ],
   "outputs": [
    {
     "name": "stdout",
     "output_type": "stream",
     "text": [
      "Mean salary: 52698.99679999999\n",
      "Median salary: 51493.065\n"
     ]
    },
    {
     "data": {
      "text/plain": [
       "<Figure size 640x480 with 1 Axes>"
      ],
      "image/png": "[encoded data removed]"
     },
     "metadata": {},
     "output_type": "display_data",
     "jetTransient": {
      "display_id": null
     }
    }
   ],
   "execution_count": 8
  },
  {
   "cell_type": "markdown",
   "id": "84517572",
   "metadata": {},
   "source": [
    "## 4. Measures of Spread — Solutions\n",
    "**A7.** SD with ddof=0 (population) and ddof=1 (sample): If this is a sample from a larger population, report `ddof=1` (Bessel's correction) for an unbiased variance estimate.\n",
    "\n",
    "**A8.** MAD about mean vs median (median-based MAD is typically more robust to outliers):"
   ]
  },
  {
   "cell_type": "code",
   "id": "8b7a509b",
   "metadata": {
    "ExecuteTime": {
     "end_time": "2025-09-23T15:35:14.810660Z",
     "start_time": "2025-09-23T15:35:14.800109Z"
    }
   },
   "source": [
    "sd_pop = df['salary'].std(ddof=0)\n",
    "sd_samp = df['salary'].std(ddof=1)\n",
    "sd_pop, sd_samp"
   ],
   "outputs": [
    {
     "data": {
      "text/plain": [
       "(np.float64(9106.664353193093), np.float64(9199.120168760915))"
      ]
     },
     "execution_count": 12,
     "metadata": {},
     "output_type": "execute_result"
    }
   ],
   "execution_count": 12
  },
  {
   "cell_type": "code",
   "id": "701d56ea",
   "metadata": {
    "ExecuteTime": {
     "end_time": "2025-09-23T15:42:28.120396Z",
     "start_time": "2025-09-23T15:42:28.107716Z"
    }
   },
   "source": [
    "def mad_cal(x):\n",
    "    return np.mean(np.abs(x-np.mean(x)))\n",
    "\n",
    "mad_mean = mad_cal(df['salary'])\n",
    "print(mad_mean)\n",
    "\n",
    "## There's an Easter egg if you can find out how to calculate the median absolute deviation, let me know if you got it in the comments of my video"
   ],
   "outputs": [
    {
     "name": "stdout",
     "output_type": "stream",
     "text": [
      "7579.455072000001\n"
     ]
    }
   ],
   "execution_count": 27
  },
  {
   "cell_type": "markdown",
   "id": "36061dcd",
   "metadata": {},
   "source": [
    "## 5. Quartiles and IQR — Solutions"
   ]
  },
  {
   "cell_type": "code",
   "execution_count": null,
   "id": "b137ce30",
   "metadata": {},
   "outputs": [],
   "source": [
    "q1 = df['age'].quantile(0.25)\n",
    "q2 = df['age'].quantile(0.50)\n",
    "q3 = df['age'].quantile(0.75)\n",
    "iqr = q3 - q1\n",
    "q1, q2, q3, iqr"
   ]
  },
  {
   "cell_type": "code",
   "execution_count": null,
   "id": "5ca79db0",
   "metadata": {},
   "outputs": [],
   "source": [
    "plt.figure()\n",
    "plt.boxplot(df['age'].values)\n",
    "plt.title('Age — Boxplot')\n",
    "plt.ylabel('Age')\n",
    "plt.show()"
   ]
  },
  {
   "cell_type": "markdown",
   "id": "8c77457e",
   "metadata": {},
   "source": [
    "## 6. Mini-Project — Solutions\n",
    "Department-level comparison of salary and orders_per_day:"
   ]
  },
  {
   "cell_type": "code",
   "execution_count": null,
   "id": "3f057906",
   "metadata": {},
   "outputs": [],
   "source": [
    "grouped = df.groupby('department')\n",
    "summary = grouped['salary'].agg(\n",
    "    mean='mean', median='median', sd=lambda s: s.std(ddof=1)\n",
    ")\n",
    "summary['mad_med'] = grouped['salary'].apply(lambda s: np.mean(np.abs(s - s.median())))\n",
    "summary"
   ]
  },
  {
   "cell_type": "code",
   "execution_count": null,
   "id": "9bf500c6",
   "metadata": {},
   "outputs": [],
   "source": [
    "orders_q = grouped['orders_per_day'].quantile([0.25, 0.5, 0.75]).unstack()\n",
    "orders_q.columns = ['Q1','Q2','Q3']\n",
    "orders_q['IQR'] = orders_q['Q3'] - orders_q['Q1']\n",
    "orders_q"
   ]
  },
  {
   "cell_type": "markdown",
   "id": "445a208a",
   "metadata": {},
   "source": [
    "## 7. Wrap-up — Notes\n",
    "- In skewed distributions, median is often a better 'typical' value than mean.\n",
    "- Use `ddof=1` for sample SD when estimating population variability.\n",
    "- IQR is robust to outliers and pairs naturally with boxplots."
   ]
  }
 ],
 "metadata": {
  "kernelspec": {
   "name": "python3",
   "language": "python",
   "display_name": "Python 3 (ipykernel)"
  }
 },
 "nbformat": 4,
 "nbformat_minor": 5
}
