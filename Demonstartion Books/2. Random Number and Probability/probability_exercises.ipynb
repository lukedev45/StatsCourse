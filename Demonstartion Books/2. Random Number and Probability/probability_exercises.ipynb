{
 "cells": [
  {
   "cell_type": "markdown",
   "id": "f4916d15",
   "metadata": {},
   "source": [
    "# Random Numbers & Probability — Exercises\n",
    "\n",
    "Beginner-friendly practice covering probability, sampling, discrete/continuous distributions, and the binomial distribution.\n",
    "Run the **Setup** cell first in each section."
   ]
  },
  {
   "cell_type": "markdown",
   "id": "9b6b2419",
   "metadata": {},
   "source": [
    "## 0) Setup"
   ]
  },
  {
   "cell_type": "code",
   "execution_count": null,
   "id": "28746e13",
   "metadata": {},
   "outputs": [],
   "source": [
    "# Run this cell first\n",
    "import numpy as np\n",
    "import pandas as pd\n",
    "import matplotlib.pyplot as plt\n",
    "from scipy.stats import uniform, binom, norm #This is the most important package\n",
    "\n",
    "rng = np.random.default_rng(123)\n",
    "pd.set_option('display.precision', 3)\n"
   ]
  },
  {
   "cell_type": "code",
   "execution_count": null,
   "id": "e660f04d",
   "metadata": {},
   "outputs": [],
   "source": [
    "# Tiny \"real-world\" sales table to sample from\n",
    "sales_counts = pd.DataFrame({\n",
    "    'name': ['Amir', 'Brian', 'Claire', 'Damian'],\n",
    "    'n_sales': [178, 128, 75, 69]\n",
    "})\n",
    "sales_counts\n"
   ]
  },
  {
   "cell_type": "markdown",
   "id": "4a5cc936",
   "metadata": {},
   "source": [
    "## 1) What are the chances?\n",
    "**Q1.** A fair coin is flipped. What is P(heads)? Write your answer as a fraction and a decimal.\n",
    "\n",
    "**Q2.** From the `sales_counts` table, if one person is chosen at random, what is P(Claire)?"
   ]
  },
  {
   "cell_type": "markdown",
   "id": "ffb54123",
   "metadata": {},
   "source": [
    "> ✍️ **Your answers (text):**\n",
    "- Q1:\n",
    "- Q2:"
   ]
  },
  {
   "cell_type": "markdown",
   "id": "e9d5039f",
   "metadata": {},
   "source": [
    "## 2) With or without replacement?\n",
    "**Q3.** If you randomly choose two names from `sales_counts` **without replacement**, are the two picks independent or dependent? Why?\n",
    "\n",
    "**Q4.** Use `sample` to draw 2 names without replacement, then 5 names **with** replacement. Observe repeats."
   ]
  },
  {
   "cell_type": "code",
   "execution_count": null,
   "id": "aa0e56e0",
   "metadata": {},
   "outputs": [],
   "source": [
    "# For sampling you want to use the .rvs method for either uniform, binom or norm according to whatever distribution the data follows.\n",
    "# Assume the sales uniform here\n"
   ]
  },
  {
   "cell_type": "markdown",
   "id": "44ceee0c",
   "metadata": {},
   "source": [
    "## 3) Calculating probabilities via simulation\n",
    "Assume each person is equally likely to be picked for a meeting.\n",
    "\n",
    "**Q5.** Simulate 1000 random picks (with replacement) from `sales_counts['name']`. Estimate P(Amir) using relative frequency. Compare to the theoretical probability."
   ]
  },
  {
   "cell_type": "code",
   "execution_count": null,
   "id": "162645e6",
   "metadata": {},
   "outputs": [],
   "source": "# Change the name column to an array and the use rng.choice to sample a random set of names"
  },
  {
   "cell_type": "markdown",
   "id": "f3d9d8d6",
   "metadata": {},
   "source": [
    "## 4) Discrete distributions — create & visualize\n",
    "A fair die has outcomes 1..6 each with probability 1/6.\n",
    "\n",
    "**Q6.** Create a DataFrame `die` with columns `number` and `prob` for a fair die.\n",
    "**Q7.** Compute the **expected value** of a fair die.\n",
    "**Q8.** Simulate 50 rolls and plot a histogram of observed outcomes."
   ]
  },
  {
   "cell_type": "code",
   "execution_count": null,
   "id": "097f4bd6",
   "metadata": {},
   "outputs": [],
   "source": "# Create a dataframe for a fair dice\n"
  },
  {
   "cell_type": "code",
   "execution_count": null,
   "id": "b788a6af",
   "metadata": {},
   "outputs": [],
   "source": [
    "# Calculate the expected value of a fair die\n",
    "ev_die = np.sum(die['number'] * die['prob'])\n",
    "ev_die"
   ]
  },
  {
   "cell_type": "code",
   "execution_count": null,
   "id": "43d0cc9e",
   "metadata": {},
   "outputs": [],
   "source": "# Simulate 50 rolls and plot histogram\n"
  },
  {
   "cell_type": "markdown",
   "id": "5aaa3a58",
   "metadata": {},
   "source": [
    "## 5) Identifying distributions (uneven probabilities)\n",
    "Suppose an **uneven** die where P(1)=1/3 and P(3)=P(4)=P(5)=P(6)=1/6 and P(2)=0.\n",
    "\n",
    "**Q9.** Construct this distribution as a DataFrame and compute its expected value.\n",
    "**Q10.** Which outcome is most likely?"
   ]
  },
  {
   "cell_type": "code",
   "execution_count": null,
   "id": "88244905",
   "metadata": {},
   "outputs": [],
   "source": "# Uneven die distribution\n"
  },
  {
   "cell_type": "markdown",
   "id": "3c209ca1",
   "metadata": {},
   "source": [
    "## 6) Expected value vs sample mean (Law of Large Numbers)\n",
    "**Q11.** For the fair die, simulate 50, then 500, then 5000 rolls. Compute the sample mean each time and compare to the expected value (3.5)."
   ]
  },
  {
   "cell_type": "code",
   "execution_count": null,
   "id": "2782e792",
   "metadata": {},
   "outputs": [],
   "source": "# LLN Demonstration"
  },
  {
   "cell_type": "markdown",
   "id": "ba7fb8a1",
   "metadata": {},
   "source": [
    "## 7) Continuous distributions — uniform & exponential\n",
    "Consider a bus that arrives uniformly between 0 and 12 minutes.\n",
    "\n",
    "**Q12.** For a **uniform(0,12)** wait time, compute:\n",
    "- P(wait ≤ 7)  \n",
    "- P(wait ≥ 7)  \n",
    "- P(4 ≤ wait ≤ 7)\n",
    "\n",
    "**Q13.** Simulate 1000 uniform(0,12) wait times and plot a histogram."
   ]
  },
  {
   "cell_type": "code",
   "execution_count": null,
   "id": "6be1ddd4",
   "metadata": {},
   "outputs": [],
   "source": "# Uniform probabilities via formulas\n"
  },
  {
   "cell_type": "code",
   "execution_count": null,
   "id": "fcbf325f",
   "metadata": {},
   "outputs": [],
   "source": "# Simulate uniform wait times\n"
  },
  {
   "cell_type": "markdown",
   "id": "8d3153c3",
   "metadata": {},
   "source": [
    "## 8) Simulating wait times — exponential\n",
    "If arrivals follow a Poisson process, inter-arrival (wait) times can be modeled by an **exponential** distribution.\n",
    "\n",
    "Let the average wait be 6 minutes (rate λ = 1/6 per minute).\n",
    "\n",
    "**Q14.** Simulate 1000 exponential waits with mean 6, and estimate P(wait ≤ 4). Compare with the theoretical value for an exponential with mean m: P(X≤x) = 1 - exp(-x/m)."
   ]
  },
  {
   "cell_type": "code",
   "execution_count": null,
   "id": "8c118f9f",
   "metadata": {},
   "outputs": [],
   "source": "# Simulate exponential waits\n"
  },
  {
   "cell_type": "code",
   "execution_count": null,
   "id": "8fb5ad27",
   "metadata": {},
   "outputs": [],
   "source": "# Plot histogram of exponential waits\n"
  },
  {
   "cell_type": "markdown",
   "id": "8c4a487a",
   "metadata": {},
   "source": [
    "## 9) The binomial distribution — simulate sales deals\n",
    "Suppose each sales deal has probability of success **p=0.3**.\n",
    "\n",
    "**Q15.** Simulate the number of wins in **n=10** deals, repeated 20 times. Use `rng.binomial(n=10, p=0.3, size=20)`.\n",
    "\n",
    "**Q16.** Compute P(X=7) and P(X≤7) for X~Bin(10, 0.5) using the provided `binom_pmf` and `binom_cdf` functions.\n",
    "\n",
    "**Q17.** In n=20 deals with p=0.3, what is the expected number of wins?"
   ]
  },
  {
   "cell_type": "code",
   "execution_count": null,
   "id": "f5f4361a",
   "metadata": {},
   "outputs": [],
   "source": "# Simulate binomial wins\n"
  },
  {
   "cell_type": "code",
   "execution_count": null,
   "id": "5ab889e1",
   "metadata": {},
   "outputs": [],
   "source": "# Binomial probabilities with helper functions\n"
  },
  {
   "cell_type": "code",
   "execution_count": null,
   "id": "45593ac3",
   "metadata": {},
   "outputs": [],
   "source": "# Expected wins for Bin(n=20, p=0.3)\n"
  },
  {
   "cell_type": "markdown",
   "id": "87181b81",
   "metadata": {},
   "source": [
    "## 10) Wrap-up\n",
    "Write 2–3 sentences explaining the difference between **expected value** (a property of the distribution) and **sample mean** (what you observe in a simulation)."
   ]
  },
  {
   "cell_type": "markdown",
   "id": "aece534d",
   "metadata": {},
   "source": [
    "> ✍️ **Your reflection:**\n",
    "- "
   ]
  }
 ],
 "metadata": {},
 "nbformat": 4,
 "nbformat_minor": 5
}
