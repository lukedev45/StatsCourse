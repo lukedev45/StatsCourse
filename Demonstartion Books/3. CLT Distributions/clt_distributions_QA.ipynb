{
 "cells": [
  {
   "cell_type": "markdown",
   "id": "7964edb8",
   "metadata": {},
   "source": [
    "# Q&A: More Distributions & the Central Limit Theorem\n",
    "\n",
    "A beginner-friendly notebook of **questions & answers**. Run the setup cell first, then explore each section. We use simple **simulation** to build intuition—no advanced libraries needed."
   ]
  },
  {
   "cell_type": "markdown",
   "id": "488c0d89",
   "metadata": {},
   "source": [
    "## 0) Setup"
   ]
  },
  {
   "cell_type": "code",
   "execution_count": null,
   "id": "8cf08ad2",
   "metadata": {},
   "outputs": [],
   "source": [
    "# Run this cell first\n",
    "import numpy as np\n",
    "import pandas as pd\n",
    "import matplotlib.pyplot as plt\n",
    "from math import comb, factorial, exp, sqrt\n",
    "from scipy.stats import norm, binom, poisson, expon\n",
    "\n",
    "rng = np.random.default_rng(2025)\n",
    "pd.set_option('display.precision', 3)\n"
   ]
  },
  {
   "cell_type": "markdown",
   "id": "9566f01f",
   "metadata": {},
   "source": [
    "## 1) The Normal Distribution\n",
    "**Q1.** What defines a normal distribution?"
   ]
  },
  {
   "cell_type": "markdown",
   "id": "5303a10e",
   "metadata": {},
   "source": [
    "**Q2.** Generate 1,000 samples from a normal distribution with mean 20 and SD 3, then plot a histogram."
   ]
  },
  {
   "cell_type": "code",
   "execution_count": null,
   "id": "93dec652",
   "metadata": {},
   "outputs": [],
   "source": "# To generate samples from a normal distribution you can use norm.rvs"
  },
  {
   "cell_type": "markdown",
   "id": "46278427",
   "metadata": {},
   "source": "**Q3.** About what percentage of values fall within 1 SD of the mean in a normal distribution?"
  },
  {
   "cell_type": "markdown",
   "id": "bf67bef3",
   "metadata": {},
   "source": [
    "## 2) The Central Limit Theorem (CLT)\n",
    "**Q4.** State the CLT in plain English."
   ]
  },
  {
   "cell_type": "markdown",
   "id": "7c0b6f83",
   "metadata": {},
   "source": [
    "**Q5.** Demonstrate the CLT by sampling means from a **uniform** distribution on [0,1]. Compare histograms of sample means for different sample sizes (n=2, n=5, n=30)."
   ]
  },
  {
   "cell_type": "code",
   "id": "49eee25d",
   "metadata": {
    "ExecuteTime": {
     "end_time": "2025-09-24T15:48:26.367440Z",
     "start_time": "2025-09-24T15:48:26.364167Z"
    }
   },
   "source": [
    "# Sample means from Uniform(0,1)\n",
    "# I write the function to help but make sure that you understand this\n",
    "def sample_means_from_uniform(n, reps=2000):\n",
    "    means = []\n",
    "    for _ in range(reps):\n",
    "        x = rng.uniform(0, 1, size=n)\n",
    "        means.append(np.mean(x))\n",
    "    return np.array(means)\n"
   ],
   "outputs": [],
   "execution_count": 1
  },
  {
   "cell_type": "markdown",
   "id": "32852dcf",
   "metadata": {},
   "source": "**Q6.** What happens to the **spread** of the sampling distribution of the mean as sample size increases?"
  },
  {
   "cell_type": "markdown",
   "id": "ed34f491",
   "metadata": {},
   "source": [
    "## 3) The Poisson Distribution\n",
    "**Q7.** When is the Poisson distribution a good model?"
   ]
  },
  {
   "cell_type": "markdown",
   "id": "3b8619db",
   "metadata": {},
   "source": [
    "**Q8.** If λ=8 adoptions per week, simulate 500 weeks of adoptions and plot a histogram."
   ]
  },
  {
   "cell_type": "code",
   "execution_count": null,
   "id": "3417ab56",
   "metadata": {},
   "outputs": [],
   "source": "# If you don't remember the poisson sampling function, you do have Google\n"
  },
  {
   "cell_type": "markdown",
   "id": "5951e00e",
   "metadata": {},
   "source": [
    "**Q9.** Compute P(X=5), P(X≤5), and P(X>5) for X~Poisson(λ=8) **without** SciPy."
   ]
  },
  {
   "cell_type": "code",
   "execution_count": null,
   "id": "78a101da",
   "metadata": {},
   "outputs": [],
   "source": ""
  },
  {
   "cell_type": "markdown",
   "id": "a007bad7",
   "metadata": {},
   "source": [
    "## 4) The Exponential Distribution\n",
    "**Q10.** How is the exponential distribution related to the Poisson distribution?"
   ]
  },
  {
   "cell_type": "markdown",
   "id": "22152ff8",
   "metadata": {},
   "source": [
    "**Q11.** If tickets arrive on average every 2 minutes, simulate 1,000 wait times and estimate P(wait ≤ 1 min)."
   ]
  },
  {
   "cell_type": "code",
   "execution_count": null,
   "id": "99fca3df",
   "metadata": {},
   "outputs": [],
   "source": "# How do you make samples on the exponential dist?\n"
  },
  {
   "cell_type": "markdown",
   "id": "8cd14a11",
   "metadata": {},
   "source": [
    "## 5) The t-Distribution\n",
    "**Q12.** What makes the t-distribution different from the normal distribution?"
   ]
  },
  {
   "cell_type": "markdown",
   "id": "421bf3c5",
   "metadata": {},
   "source": [
    "**Q13.** Simulate 5,000 draws from a t-like distribution with df=5 and compare its histogram to a standard normal (simulation-based)."
   ]
  },
  {
   "cell_type": "code",
   "execution_count": null,
   "id": "8fba8fdc",
   "metadata": {},
   "outputs": [],
   "source": "# DO you know what a t-like distribution is?"
  },
  {
   "cell_type": "markdown",
   "id": "38ed0b1d",
   "metadata": {},
   "source": [
    "## 6) The Mean of Means\n",
    "**Q14.** Using a strongly **right-skewed** distribution (log-normal), compute sample means for n=30 over 2,000 repetitions. What do you notice about the shape of the distribution of the means?"
   ]
  },
  {
   "cell_type": "code",
   "execution_count": null,
   "id": "d63db99b",
   "metadata": {},
   "outputs": [],
   "source": "# Simulate a skewed population (log-normal via exponentiating normal)\n"
  },
  {
   "cell_type": "markdown",
   "id": "d8a0bf3b",
   "metadata": {},
   "source": [
    "## 7) Wrap-up\n",
    "- Normal distribution is defined by **μ** and **σ**; many histograms look roughly normal.\n",
    "- **CLT**: sampling distributions of means tend to normal as **n** grows.\n",
    "- **Poisson** counts events; **Exponential** models wait times; **t** handles small-sample uncertainty.\n",
    "- Simulation is your friend for building intuition."
   ]
  }
 ],
 "metadata": {
  "kernelspec": {
   "name": "python3",
   "language": "python",
   "display_name": "Python 3 (ipykernel)"
  }
 },
 "nbformat": 4,
 "nbformat_minor": 5
}
