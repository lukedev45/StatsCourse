{
 "cells": [
  {
   "cell_type": "markdown",
   "id": "7964edb8",
   "metadata": {},
   "source": [
    "# Q&A: More Distributions & the Central Limit Theorem\n",
    "\n",
    "A beginner-friendly notebook of **questions & answers**. Run the setup cell first, then explore each section. We use simple **simulation** to build intuition—no advanced libraries needed."
   ]
  },
  {
   "cell_type": "markdown",
   "id": "488c0d89",
   "metadata": {},
   "source": [
    "## 0) Setup"
   ]
  },
  {
   "cell_type": "code",
   "execution_count": null,
   "id": "8cf08ad2",
   "metadata": {},
   "outputs": [],
   "source": [
    "# Run this cell first\n",
    "import numpy as np\n",
    "import pandas as pd\n",
    "import matplotlib.pyplot as plt\n",
    "from math import comb, factorial, exp, sqrt\n",
    "from scipy.stats import norm, binom, poisson, expon\n",
    "\n",
    "rng = np.random.default_rng(2025)\n",
    "pd.set_option('display.precision', 3)\n"
   ]
  },
  {
   "cell_type": "code",
   "execution_count": null,
   "id": "93bbf1c2",
   "metadata": {},
   "outputs": [],
   "source": [
    "# ---- Helper functions (no scipy) ----\n",
    "def normal_sample(mean=0.0, sd=1.0, size=1, rng=None):\n",
    "    r = rng or np.random.default_rng()\n",
    "    return r.normal(loc=mean, scale=sd, size=size)\n",
    "\n",
    "def poisson_sample(lam=5.0, size=1, rng=None):\n",
    "    r = rng or np.random.default_rng()\n",
    "    return r.poisson(lam=lam, size=size)\n",
    "\n",
    "def exponential_sample(mean=1.0, size=1, rng=None):\n",
    "    # numpy exponential uses 'scale' = mean\n",
    "    r = rng or np.random.default_rng()\n",
    "    return r.exponential(scale=mean, size=size)\n",
    "\n",
    "def poisson_pmf(k, lam):\n",
    "    # P(X=k) = e^{-lam} lam^k / k!\n",
    "    if k < 0 or int(k) != k:\n",
    "        return 0.0\n",
    "    return exp(-lam) * (lam**int(k)) / factorial(int(k))\n",
    "\n",
    "def poisson_cdf(k, lam):\n",
    "    # sum_{i=0}^k pmf(i)\n",
    "    k = int(k)\n",
    "    return sum(poisson_pmf(i, lam) for i in range(k+1))\n",
    "\n",
    "def t_like_sample(df, size=1, rng=None):\n",
    "    # Generate Student-t via normal / sqrt(chi2/df)\n",
    "    # chi2 via sum of squares of df standard normals\n",
    "    r = rng or np.random.default_rng()\n",
    "    z = r.normal(size=size)\n",
    "    chi2 = np.sum(r.normal(size=(size, df))**2, axis=1)\n",
    "    return z / np.sqrt(chi2 / df)\n"
   ]
  },
  {
   "cell_type": "markdown",
   "id": "9566f01f",
   "metadata": {},
   "source": [
    "## 1) The Normal Distribution\n",
    "**Q1.** What defines a normal distribution?\n",
    "\n",
    "**A1.** It is a symmetric, bell-shaped distribution fully described by its **mean (μ)** and **standard deviation (σ)**. The **standard normal** has μ=0 and σ=1."
   ]
  },
  {
   "cell_type": "markdown",
   "id": "5303a10e",
   "metadata": {},
   "source": [
    "**Q2.** Generate 1,000 samples from a normal distribution with mean 20 and SD 3, then plot a histogram."
   ]
  },
  {
   "cell_type": "code",
   "execution_count": null,
   "id": "93dec652",
   "metadata": {},
   "outputs": [],
   "source": "# To generate samples from a normal distribution you can use norm.rvs"
  },
  {
   "cell_type": "markdown",
   "id": "46278427",
   "metadata": {},
   "source": [
    "**Q3.** About what percentage of values fall within 1 SD of the mean in a normal distribution?\n",
    "\n",
    "**A3.** Roughly **68%** (the 68–95–99.7 rule)."
   ]
  },
  {
   "cell_type": "markdown",
   "id": "bf67bef3",
   "metadata": {},
   "source": [
    "## 2) The Central Limit Theorem (CLT)\n",
    "**Q4.** State the CLT in plain English.\n",
    "\n",
    "**A4.** If you take many random, independent samples and compute a statistic like the **mean**, the distribution of that statistic becomes approximately **normal** as sample size grows—even when the original data are not normal."
   ]
  },
  {
   "cell_type": "markdown",
   "id": "7c0b6f83",
   "metadata": {},
   "source": [
    "**Q5.** Demonstrate the CLT by sampling means from a **uniform** distribution on [0,1]. Compare histograms of sample means for different sample sizes (n=2, n=5, n=30)."
   ]
  },
  {
   "cell_type": "code",
   "execution_count": null,
   "id": "49eee25d",
   "metadata": {},
   "outputs": [],
   "source": [
    "# Sample means from Uniform(0,1)\n",
    "# I write the function to help but make sure that you understand this\n",
    "def sample_means_from_uniform(n, reps=2000):\n",
    "    means = []\n",
    "    for _ in range(reps):\n",
    "        x = rng.uniform(0, 1, size=n)\n",
    "        means.append(np.mean(x))\n",
    "    return np.array(means)\n"
   ]
  },
  {
   "cell_type": "markdown",
   "id": "32852dcf",
   "metadata": {},
   "source": [
    "**Q6.** What happens to the **spread** of the sampling distribution of the mean as sample size increases?\n",
    "\n",
    "**A6.** It **shrinks**. The standard deviation of the sample mean (the **standard error**) decreases roughly like **σ/√n**."
   ]
  },
  {
   "cell_type": "markdown",
   "id": "ed34f491",
   "metadata": {},
   "source": [
    "## 3) The Poisson Distribution\n",
    "**Q7.** When is the Poisson distribution a good model?\n",
    "\n",
    "**A7.** When you count how many events occur in a fixed time/space interval, assuming events happen at a constant **average rate (λ)** and independently."
   ]
  },
  {
   "cell_type": "markdown",
   "id": "3b8619db",
   "metadata": {},
   "source": [
    "**Q8.** If λ=8 adoptions per week, simulate 500 weeks of adoptions and plot a histogram."
   ]
  },
  {
   "cell_type": "code",
   "execution_count": null,
   "id": "3417ab56",
   "metadata": {},
   "outputs": [],
   "source": "# If you don't remember the poisson sampling function, you do have Google\n"
  },
  {
   "cell_type": "markdown",
   "id": "5951e00e",
   "metadata": {},
   "source": [
    "**Q9.** Compute P(X=5), P(X≤5), and P(X>5) for X~Poisson(λ=8) **without** SciPy."
   ]
  },
  {
   "cell_type": "code",
   "execution_count": null,
   "id": "78a101da",
   "metadata": {},
   "outputs": [],
   "source": ""
  },
  {
   "cell_type": "markdown",
   "id": "a007bad7",
   "metadata": {},
   "source": [
    "## 4) The Exponential Distribution\n",
    "**Q10.** How is the exponential distribution related to the Poisson distribution?\n",
    "\n",
    "**A10.** If events occur according to a Poisson process with rate **λ** per unit time, then the **time between events** is exponential with **mean = 1/λ** (scale parameter)."
   ]
  },
  {
   "cell_type": "markdown",
   "id": "22152ff8",
   "metadata": {},
   "source": [
    "**Q11.** If tickets arrive on average every 2 minutes, simulate 1,000 wait times and estimate P(wait ≤ 1 min)."
   ]
  },
  {
   "cell_type": "code",
   "execution_count": null,
   "id": "99fca3df",
   "metadata": {},
   "outputs": [],
   "source": "# How do you make samples on the exponential dist?\n"
  },
  {
   "cell_type": "markdown",
   "id": "8cd14a11",
   "metadata": {},
   "source": [
    "## 5) The t-Distribution\n",
    "**Q12.** What makes the t-distribution different from the normal distribution?\n",
    "\n",
    "**A12.** It has **heavier tails** controlled by **degrees of freedom (df)**. For small df, tails are thick; as df grows, it approaches the normal distribution."
   ]
  },
  {
   "cell_type": "markdown",
   "id": "421bf3c5",
   "metadata": {},
   "source": [
    "**Q13.** Simulate 5,000 draws from a t-like distribution with df=5 and compare its histogram to a standard normal (simulation-based)."
   ]
  },
  {
   "cell_type": "code",
   "execution_count": null,
   "id": "8fba8fdc",
   "metadata": {},
   "outputs": [],
   "source": "# DO you know what a t-like distribution is?"
  },
  {
   "cell_type": "markdown",
   "id": "38ed0b1d",
   "metadata": {},
   "source": [
    "## 6) The Mean of Means\n",
    "**Q14.** Using a strongly **right-skewed** distribution (log-normal), compute sample means for n=30 over 2,000 repetitions. What do you notice about the shape of the distribution of the means?"
   ]
  },
  {
   "cell_type": "code",
   "execution_count": null,
   "id": "d63db99b",
   "metadata": {},
   "outputs": [],
   "source": "# Simulate a skewed population (log-normal via exponentiating normal)\n"
  },
  {
   "cell_type": "markdown",
   "id": "d8a0bf3b",
   "metadata": {},
   "source": [
    "## 7) Wrap-up\n",
    "- Normal distribution is defined by **μ** and **σ**; many histograms look roughly normal.\n",
    "- **CLT**: sampling distributions of means tend to normal as **n** grows.\n",
    "- **Poisson** counts events; **Exponential** models wait times; **t** handles small-sample uncertainty.\n",
    "- Simulation is your friend for building intuition."
   ]
  }
 ],
 "metadata": {},
 "nbformat": 4,
 "nbformat_minor": 5
}
