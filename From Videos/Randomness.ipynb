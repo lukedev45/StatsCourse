{
 "cells": [
  {
   "cell_type": "code",
   "execution_count": 41,
   "id": "bb7231fb-0ad6-4d66-94d2-0174abab89b2",
   "metadata": {},
   "outputs": [
    {
     "name": "stdout",
     "output_type": "stream",
     "text": [
      "name       Damian\n",
      "n_sales        69\n",
      "Name: 3, dtype: object\n"
     ]
    }
   ],
   "source": [
    "import numpy as np\n",
    "import pandas as pd\n",
    "import matplotlib.pyplot as plt\n",
    "from scipy.stats import uniform, norm, binom\n",
    "\n",
    "## Test data set\n",
    "sales_counts = pd.DataFrame({\n",
    "    'name': ['Amir', 'Brian', 'Claire', 'Damian'],\n",
    "    'n_sales': [178, 128, 75, 69]\n",
    "})\n",
    "sales_counts"
   ]
  },
  {
   "cell_type": "code",
   "execution_count": 57,
   "id": "258e1d02-13f5-4682-92a0-36f891edd8aa",
   "metadata": {},
   "outputs": [
    {
     "name": "stdout",
     "output_type": "stream",
     "text": [
      "     name  n_sales\n",
      "2  Claire       75\n",
      "1   Brian      128\n",
      "3  Damian       69\n"
     ]
    }
   ],
   "source": [
    "# Probability is just the number of favorable outcomes divided by total possible outcomes.\n",
    "np.random.seed(234)\n",
    "\n",
    "# Sample 5 deals without replacement\n",
    "sample_without_replacement = sales_counts.sample(3, replace=False)\n",
    "print(sample_without_replacement)\n",
    "\n",
    "# Example: flipping a coin. Two outcomes, one way to get heads → probability = 1/2 = 50%.\n",
    "\n",
    "# Same idea applies to real-world events, like assigning players in a game."
   ]
  },
  {
   "cell_type": "code",
   "execution_count": 38,
   "id": "cdb697bb-009c-4f75-9709-2778ab496b32",
   "metadata": {},
   "outputs": [
    {
     "name": "stdout",
     "output_type": "stream",
     "text": [
      "     name  n_sales\n",
      "2  Claire       75\n",
      "2  Claire       75\n",
      "3  Damian       69\n",
      "1   Brian      128\n"
     ]
    }
   ],
   "source": [
    "# With replacement → each draw is independent.\n",
    "np.random.seed(4)\n",
    "\n",
    "# Prob(A & B) = P(A) * P(B)\n",
    "\n",
    "# Without replacement → draws are dependent because earlier picks affect later ones.\n",
    "sample_without_replacement = sales_counts.sample(4, replace=True)\n",
    "print(sample_without_replacement)\n",
    "\n",
    "# Prob(B | A) = P (A & B) / P(A)\n",
    "\n",
    "# Example: choosing a salesperson for multiple meetings.\n",
    "\n",
    "# In Python, we use DataFrame.sample() with or without replace=True."
   ]
  },
  {
   "cell_type": "code",
   "execution_count": null,
   "id": "7195e8b9-2747-4e8c-aa13-779dccb60024",
   "metadata": {},
   "outputs": [],
   "source": [
    "# Probability distributions describe the probability of each outcome.\n",
    "\n",
    "# Example: rolling a fair die → uniform distribution, expected value = 3.5.\n",
    "\n",
    "# Expected value: 1 × 1/6 + 2 x 1/6 ...\n",
    "\n",
    "# With uneven probabilities, outcomes change, but the principle is the same.\n",
    "\n",
    "# Law of Large Numbers: as your sample grows, the sample mean approaches the expected value."
   ]
  },
  {
   "cell_type": "code",
   "execution_count": null,
   "id": "7a405888-6e87-4c09-8f4d-e3310460e755",
   "metadata": {},
   "outputs": [],
   "source": [
    "# For continuous outcomes, probability = area under the curve.\n",
    "\n",
    "# Example: waiting for a bus between 0 and 12 minutes → uniform distribution.\n",
    "\n",
    "# Probability of waiting 4–7 minutes is proportional to that section of the line.\n",
    "\n",
    "# Other examples include exponential and normal distributions."
   ]
  },
  {
   "cell_type": "code",
   "execution_count": null,
   "id": "93ece124-bcf1-4075-b415-629f68edc885",
   "metadata": {},
   "outputs": [],
   "source": [
    "# Models the number of successes in a sequence of independent trials.\n",
    "\n",
    "# Example: flipping a coin 10 times → how many heads?\n",
    "\n",
    "# Defined by:\n",
    "\n",
    "# n: number of trials\n",
    "\n",
    "# p: probability of success\n",
    "\n",
    "# Useful for modeling sales success, click-through rates, and other binary outcomes.\n",
    "\n",
    "# Expected value: n × p."
   ]
  },
  {
   "cell_type": "code",
   "execution_count": null,
   "id": "de240a1d-3ead-416d-8e91-dd76d529712d",
   "metadata": {},
   "outputs": [],
   "source": [
    "# \"So to recap: we looked at probability basics, sampling, discrete and continuous distributions, and the binomial distribution."
   ]
  }
 ],
 "metadata": {
  "kernelspec": {
   "display_name": "Python 3 (ipykernel)",
   "language": "python",
   "name": "python3"
  },
  "language_info": {
   "codemirror_mode": {
    "name": "ipython",
    "version": 3
   },
   "file_extension": ".py",
   "mimetype": "text/x-python",
   "name": "python",
   "nbconvert_exporter": "python",
   "pygments_lexer": "ipython3",
   "version": "3.12.3"
  }
 },
 "nbformat": 4,
 "nbformat_minor": 5
}
