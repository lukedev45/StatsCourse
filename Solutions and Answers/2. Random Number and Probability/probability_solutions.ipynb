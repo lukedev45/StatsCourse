{
 "cells": [
  {
   "cell_type": "markdown",
   "id": "b8ebb174",
   "metadata": {},
   "source": [
    "# Random Numbers & Probability — Solutions\n",
    "Worked answers for the exercises notebook."
   ]
  },
  {
   "cell_type": "markdown",
   "id": "a3c9aa22",
   "metadata": {},
   "source": [
    "## 0) Setup"
   ]
  },
  {
   "cell_type": "code",
   "id": "1750f8a9",
   "metadata": {
    "ExecuteTime": {
     "end_time": "2025-09-24T12:05:13.258521Z",
     "start_time": "2025-09-24T12:05:10.365018Z"
    }
   },
   "source": [
    "# Run this cell first\n",
    "import numpy as np\n",
    "import pandas as pd\n",
    "import matplotlib.pyplot as plt\n",
    "from scipy.stats import uniform, binom, norm\n",
    "from webcolors import names\n",
    "\n",
    "rng = np.random.default_rng(123)\n",
    "pd.set_option('display.precision', 3)\n"
   ],
   "outputs": [],
   "execution_count": 2
  },
  {
   "cell_type": "code",
   "id": "a4c3b963",
   "metadata": {
    "ExecuteTime": {
     "end_time": "2025-09-24T12:05:14.846026Z",
     "start_time": "2025-09-24T12:05:14.823797Z"
    }
   },
   "source": [
    "# Tiny \"real-world\" sales table to sample from\n",
    "sales_counts = pd.DataFrame({\n",
    "    'name': ['Amir', 'Brian', 'Claire', 'Damian'],\n",
    "    'n_sales': [178, 128, 75, 69]\n",
    "})\n",
    "sales_counts\n"
   ],
   "outputs": [
    {
     "data": {
      "text/plain": [
       "     name  n_sales\n",
       "0    Amir      178\n",
       "1   Brian      128\n",
       "2  Claire       75\n",
       "3  Damian       69"
      ],
      "text/html": [
       "<div>\n",
       "<style scoped>\n",
       "    .dataframe tbody tr th:only-of-type {\n",
       "        vertical-align: middle;\n",
       "    }\n",
       "\n",
       "    .dataframe tbody tr th {\n",
       "        vertical-align: top;\n",
       "    }\n",
       "\n",
       "    .dataframe thead th {\n",
       "        text-align: right;\n",
       "    }\n",
       "</style>\n",
       "<table border=\"1\" class=\"dataframe\">\n",
       "  <thead>\n",
       "    <tr style=\"text-align: right;\">\n",
       "      <th></th>\n",
       "      <th>name</th>\n",
       "      <th>n_sales</th>\n",
       "    </tr>\n",
       "  </thead>\n",
       "  <tbody>\n",
       "    <tr>\n",
       "      <th>0</th>\n",
       "      <td>Amir</td>\n",
       "      <td>178</td>\n",
       "    </tr>\n",
       "    <tr>\n",
       "      <th>1</th>\n",
       "      <td>Brian</td>\n",
       "      <td>128</td>\n",
       "    </tr>\n",
       "    <tr>\n",
       "      <th>2</th>\n",
       "      <td>Claire</td>\n",
       "      <td>75</td>\n",
       "    </tr>\n",
       "    <tr>\n",
       "      <th>3</th>\n",
       "      <td>Damian</td>\n",
       "      <td>69</td>\n",
       "    </tr>\n",
       "  </tbody>\n",
       "</table>\n",
       "</div>"
      ]
     },
     "execution_count": 3,
     "metadata": {},
     "output_type": "execute_result"
    }
   ],
   "execution_count": 3
  },
  {
   "cell_type": "markdown",
   "id": "05138189",
   "metadata": {},
   "source": [
    "## 1) What are the chances? — Solutions\n",
    "**A1.** P(heads)=1/2=0.5\n",
    "\n",
    "**A2.** 4 people → P(Claire)=1/4=0.25"
   ]
  },
  {
   "cell_type": "markdown",
   "id": "29b43359",
   "metadata": {},
   "source": [
    "## 2) With or without replacement? — Solutions\n",
    "**A3.** Without replacement → **dependent** (first pick changes the pool). With replacement → **independent**.\n",
    "\n",
    "**A4.** See code output for repeats."
   ]
  },
  {
   "cell_type": "code",
   "id": "1b4130d8",
   "metadata": {
    "ExecuteTime": {
     "end_time": "2025-09-24T12:09:29.390745Z",
     "start_time": "2025-09-24T12:09:29.381216Z"
    }
   },
   "source": [
    "draw_without = sales_counts.sample(2, replace=False)\n",
    "draw_with = sales_counts.sample(5, replace=True)\n",
    "draw_without, draw_with\n"
   ],
   "outputs": [
    {
     "data": {
      "text/plain": [
       "(     name  n_sales\n",
       " 0    Amir      178\n",
       " 2  Claire       75,\n",
       "      name  n_sales\n",
       " 0    Amir      178\n",
       " 1   Brian      128\n",
       " 3  Damian       69\n",
       " 2  Claire       75\n",
       " 3  Damian       69)"
      ]
     },
     "execution_count": 46,
     "metadata": {},
     "output_type": "execute_result"
    }
   ],
   "execution_count": 46
  },
  {
   "cell_type": "markdown",
   "id": "bd32df80",
   "metadata": {},
   "source": [
    "## 3) Calculating probabilities via simulation — Solutions"
   ]
  },
  {
   "cell_type": "code",
   "id": "53ff1804",
   "metadata": {
    "ExecuteTime": {
     "end_time": "2025-09-24T12:23:44.881612Z",
     "start_time": "2025-09-24T12:23:44.787491Z"
    }
   },
   "source": [
    "names = sales_counts['name'].to_numpy()\n",
    "picks = np.array([rng.choice(names) for i in range(10000)])\n",
    "p_Amir_est = np.mean(picks == 'Amir')\n",
    "p_Amir_est\n"
   ],
   "outputs": [
    {
     "data": {
      "text/plain": [
       "np.float64(0.2509)"
      ]
     },
     "execution_count": 61,
     "metadata": {},
     "output_type": "execute_result"
    }
   ],
   "execution_count": 61
  },
  {
   "cell_type": "markdown",
   "id": "533f8c69",
   "metadata": {},
   "source": "(## 4) Discrete distributions — Solutions"
  },
  {
   "cell_type": "code",
   "execution_count": null,
   "id": "76ac7d91",
   "metadata": {},
   "outputs": [],
   "source": [
    "die = pd.DataFrame({'number': np.arange(1,7), 'prob': np.repeat(1/6, 6)})\n",
    "die"
   ]
  },
  {
   "cell_type": "code",
   "execution_count": null,
   "id": "d64f85b2",
   "metadata": {},
   "outputs": [],
   "source": [
    "ev_die = np.sum(die['number'] * die['prob'])\n",
    "ev_die"
   ]
  },
  {
   "cell_type": "code",
   "execution_count": null,
   "id": "048145e6",
   "metadata": {},
   "outputs": [],
   "source": [
    "rolls_50 = rng.choice(die['number'], size=50, replace=True, p=die['prob'])\n",
    "plt.figure()\n",
    "plt.hist(rolls_50, bins=np.arange(1,8))\n",
    "plt.title('50 simulated die rolls')\n",
    "plt.xlabel('Outcome')\n",
    "plt.ylabel('Count')\n",
    "plt.show()"
   ]
  },
  {
   "cell_type": "markdown",
   "id": "0003ad9e",
   "metadata": {},
   "source": [
    "## 5) Identifying distributions (uneven) — Solutions"
   ]
  },
  {
   "cell_type": "code",
   "execution_count": null,
   "id": "4775f1b5",
   "metadata": {},
   "outputs": [],
   "source": [
    "uneven_probs = np.array([1/3, 0, 1/6, 1/6, 1/6, 1/6])\n",
    "uneven = pd.DataFrame({'number': np.arange(1,7), 'prob': uneven_probs})\n",
    "ev_uneven = np.sum(uneven['number'] * uneven['prob'])\n",
    "uneven, ev_uneven"
   ]
  },
  {
   "cell_type": "markdown",
   "id": "1cfc6493",
   "metadata": {},
   "source": [
    "## 6) Expected value vs sample mean — Solutions"
   ]
  },
  {
   "cell_type": "code",
   "execution_count": null,
   "id": "8daa000a",
   "metadata": {},
   "outputs": [],
   "source": [
    "def sample_mean_of_rolls(n):\n",
    "    xs = rng.choice(die['number'], size=n, p=die['prob'])\n",
    "    return float(np.mean(xs))\n",
    "means = {n: sample_mean_of_rolls(n) for n in [50, 500, 5000]}\n",
    "means"
   ]
  },
  {
   "cell_type": "markdown",
   "id": "7e9198c5",
   "metadata": {},
   "source": [
    "## 7) Continuous distributions — uniform — Solutions"
   ]
  },
  {
   "cell_type": "code",
   "execution_count": null,
   "id": "4bb03dea",
   "metadata": {},
   "outputs": [],
   "source": [
    "a, b = 0.0, 12.0\n",
    "p_le_7 = (7 - a)/(b - a)\n",
    "p_ge_7 = 1 - p_le_7\n",
    "p_4_7 = (7 - 4)/(b - a)\n",
    "p_le_7, p_ge_7, p_4_7"
   ]
  },
  {
   "cell_type": "code",
   "execution_count": null,
   "id": "f3a4c0ae",
   "metadata": {},
   "outputs": [],
   "source": [
    "waits_u = rng.uniform(0, 12, size=1000)\n",
    "plt.figure()\n",
    "plt.hist(waits_u, bins=20)\n",
    "plt.title('Uniform(0,12) simulated waits (n=1000)')\n",
    "plt.xlabel('Minutes')\n",
    "plt.ylabel('Count')\n",
    "plt.show()"
   ]
  },
  {
   "cell_type": "markdown",
   "id": "9230a46f",
   "metadata": {},
   "source": [
    "## 8) Exponential waits — Solutions"
   ]
  },
  {
   "cell_type": "code",
   "execution_count": null,
   "id": "6fdaf314",
   "metadata": {},
   "outputs": [],
   "source": [
    "mean_wait = 6.0\n",
    "waits_e = rng.exponential(scale=mean_wait, size=1000)\n",
    "p_est = float(np.mean(waits_e <= 4))\n",
    "p_theory = 1 - np.exp(-4/mean_wait)\n",
    "p_est, p_theory"
   ]
  },
  {
   "cell_type": "code",
   "execution_count": null,
   "id": "afa58c8e",
   "metadata": {},
   "outputs": [],
   "source": [
    "plt.figure()\n",
    "plt.hist(waits_e, bins=30)\n",
    "plt.title('Exponential(mean=6) simulated waits (n=1000)')\n",
    "plt.xlabel('Minutes')\n",
    "plt.ylabel('Count')\n",
    "plt.show()"
   ]
  },
  {
   "cell_type": "markdown",
   "id": "2b972aef",
   "metadata": {},
   "source": [
    "## 9) Binomial distribution — Solutions"
   ]
  },
  {
   "cell_type": "code",
   "execution_count": null,
   "id": "7570de35",
   "metadata": {},
   "outputs": [],
   "source": [
    "sim_wins = rng.binomial(n=10, p=0.3, size=20)\n",
    "sim_wins"
   ]
  },
  {
   "cell_type": "code",
   "id": "3885a5c9",
   "metadata": {
    "ExecuteTime": {
     "end_time": "2025-09-24T12:14:14.743473Z",
     "start_time": "2025-09-24T12:14:14.737367Z"
    }
   },
   "source": [
    "p_eq_7 = binom.pmf(7, 10, 0.5)\n",
    "p_le_7 = binom.cdf(7, 10, 0.5)\n",
    "p_eq_7, p_le_7"
   ],
   "outputs": [
    {
     "data": {
      "text/plain": [
       "(np.float64(0.11718749999999999), np.float64(0.9453125))"
      ]
     },
     "execution_count": 51,
     "metadata": {},
     "output_type": "execute_result"
    }
   ],
   "execution_count": 51
  },
  {
   "cell_type": "code",
   "execution_count": null,
   "id": "097e8caf",
   "metadata": {},
   "outputs": [],
   "source": [
    "expected_wins = 20 * 0.3\n",
    "expected_wins"
   ]
  },
  {
   "cell_type": "markdown",
   "id": "4dc27fbf",
   "metadata": {},
   "source": [
    "## 10) Wrap-up — Notes\n",
    "- **Expected value** is the long-run average defined by the distribution.\n",
    "- **Sample mean** is the average of observed outcomes; it approaches the expected value as the sample size increases (Law of Large Numbers)."
   ]
  }
 ],
 "metadata": {
  "kernelspec": {
   "name": "python3",
   "language": "python",
   "display_name": "Python 3 (ipykernel)"
  }
 },
 "nbformat": 4,
 "nbformat_minor": 5
}
