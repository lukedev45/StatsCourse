{
 "cells": [
  {
   "metadata": {},
   "cell_type": "markdown",
   "source": [
    "## 1) The Normal Distribution\n",
    "**Q1.** What defines a normal distribution?\n",
    "\n",
    "**A1.** It is a symmetric, bell-shaped distribution fully described by its **mean (μ)** and **standard deviation (σ)**. The **standard normal** has μ=0 and σ=1."
   ],
   "id": "ccb98d22d6bf163c"
  },
  {
   "metadata": {},
   "cell_type": "markdown",
   "source": "**Q2.** Generate 1,000 samples from a normal distribution with mean 20 and SD 3, then plot a histogram.",
   "id": "a4515ad25b7f9ef5"
  },
  {
   "metadata": {
    "ExecuteTime": {
     "end_time": "2025-09-24T14:41:23.612257Z",
     "start_time": "2025-09-24T14:41:20.583190Z"
    }
   },
   "cell_type": "code",
   "source": [
    "# Run this cell first\n",
    "import numpy as np\n",
    "import pandas as pd\n",
    "import matplotlib.pyplot as plt\n",
    "from math import comb, factorial, exp, sqrt\n",
    "from scipy.stats import norm, binom, poisson, expon, t, t_gen"
   ],
   "id": "d9bd6e02d754700b",
   "outputs": [],
   "execution_count": 2
  },
  {
   "metadata": {},
   "cell_type": "code",
   "outputs": [],
   "execution_count": null,
   "source": [
    "rng = np.random.default_rng(2025)\n",
    "pd.set_option('display.precision', 3)\n",
    "\n",
    "samples = norm.rvs(20, 3, size=1000)\n",
    "plt.figure()\n",
    "plt.hist(samples, bins=30)\n",
    "plt.title('Normal(μ=20, σ=3) — 1000 samples')\n",
    "plt.xlabel('Value')\n",
    "plt.ylabel('Count')\n",
    "plt.show()\n",
    "float(np.mean(samples)), float(np.std(samples, ddof=0))"
   ],
   "id": "44585671b5f002a1"
  },
  {
   "metadata": {},
   "cell_type": "markdown",
   "source": [
    "**Q3.** About what percentage of values fall within 1 SD of the mean in a normal distribution?\n",
    "\n",
    "**A3.** Roughly **68%** (the 68–95–99.7 rule)."
   ],
   "id": "350ad5939516d082"
  },
  {
   "metadata": {},
   "cell_type": "markdown",
   "source": [
    "## 2) The Central Limit Theorem (CLT)\n",
    "**Q4.** State the CLT in plain English.\n",
    "\n",
    "**A4.** If you take many random, independent samples and compute a statistic like the **mean**, the distribution of that statistic becomes approximately **normal** as sample size grows—even when the original data are not normal."
   ],
   "id": "50d6b3c0815ab411"
  },
  {
   "metadata": {},
   "cell_type": "markdown",
   "source": "**Q5.** Demonstrate the CLT by sampling means from a **uniform** distribution on [0,1]. Compare histograms of sample means for different sample sizes (n=2, n=5, n=30).",
   "id": "663723806b0e3795"
  },
  {
   "metadata": {},
   "cell_type": "code",
   "outputs": [],
   "execution_count": null,
   "source": [
    "# Sample means from Uniform(0,1)\n",
    "def sample_means_from_uniform(n, reps=2000):\n",
    "    means = []\n",
    "    for _ in range(reps):\n",
    "        x = rng.uniform(0, 1, size=n)\n",
    "        means.append(np.mean(x))\n",
    "    return np.array(means)\n",
    "\n",
    "means_n2 = sample_means_from_uniform(2)\n",
    "means_n5 = sample_means_from_uniform(5)\n",
    "means_n30 = sample_means_from_uniform(30)\n",
    "\n",
    "plt.figure()\n",
    "plt.hist(means_n2, bins=30)\n",
    "plt.title('Sampling distribution of the mean — n=2')\n",
    "plt.xlabel('Sample mean')\n",
    "plt.ylabel('Count')\n",
    "plt.show()\n",
    "\n",
    "plt.figure()\n",
    "plt.hist(means_n5, bins=30)\n",
    "plt.title('Sampling distribution of the mean — n=5')\n",
    "plt.xlabel('Sample mean')\n",
    "plt.ylabel('Count')\n",
    "plt.show()\n",
    "\n",
    "plt.figure()\n",
    "plt.hist(means_n30, bins=30)\n",
    "plt.title('Sampling distribution of the mean — n=30')\n",
    "plt.xlabel('Sample mean')\n",
    "plt.ylabel('Count')\n",
    "plt.show()\n",
    "\n",
    "float(np.mean(means_n30)), float(np.std(means_n30, ddof=1))"
   ],
   "id": "5601916338717637"
  },
  {
   "metadata": {},
   "cell_type": "markdown",
   "source": [
    "**Q6.** What happens to the **spread** of the sampling distribution of the mean as sample size increases?\n",
    "\n",
    "**A6.** It **shrinks**. The standard deviation of the sample mean (the **standard error**) decreases roughly like **σ/√n**."
   ],
   "id": "bb0dd826f1fda6be"
  },
  {
   "metadata": {},
   "cell_type": "markdown",
   "source": [
    "## 3) The Poisson Distribution\n",
    "**Q7.** When is the Poisson distribution a good model?\n",
    "\n",
    "**A7.** When you count how many events occur in a fixed time/space interval, assuming events happen at a constant **average rate (λ)** and independently."
   ],
   "id": "f3e67a9575c451c"
  },
  {
   "metadata": {},
   "cell_type": "markdown",
   "source": "**Q8.** If λ=8 adoptions per week, simulate 500 weeks of adoptions and plot a histogram.",
   "id": "7edcb93d3c83bc66"
  },
  {
   "metadata": {
    "ExecuteTime": {
     "end_time": "2025-09-24T14:41:35.412618Z",
     "start_time": "2025-09-24T14:41:35.201093Z"
    }
   },
   "cell_type": "code",
   "source": [
    "adopt = poisson.rvs(8, size=500)\n",
    "plt.figure()\n",
    "plt.hist(adopt, bins=np.arange(0, 25))\n",
    "plt.title('Poisson(λ=8) — 500 simulated weeks')\n",
    "plt.xlabel('# of adoptions in a week')\n",
    "plt.ylabel('Count')\n",
    "plt.show()\n",
    "int(np.mean(adopt))"
   ],
   "id": "314fdd15ac40f344",
   "outputs": [
    {
     "data": {
      "text/plain": [
       "<Figure size 640x480 with 1 Axes>"
      ],
      "image/png": "[encoded data removed]"
     },
     "metadata": {},
     "output_type": "display_data",
     "jetTransient": {
      "display_id": null
     }
    },
    {
     "data": {
      "text/plain": [
       "8"
      ]
     },
     "execution_count": 4,
     "metadata": {},
     "output_type": "execute_result"
    }
   ],
   "execution_count": 4
  },
  {
   "metadata": {},
   "cell_type": "markdown",
   "source": "**Q9.** Compute P(X=5), P(X≤5), and P(X>5) for X~Poisson(λ=8) **without** SciPy.",
   "id": "dd554d088df6b1d4"
  },
  {
   "metadata": {},
   "cell_type": "code",
   "outputs": [],
   "execution_count": null,
   "source": [
    "lam = 8\n",
    "p_eq_5 = poisson.pmf(5, lam)\n",
    "p_le_5 = poisson.cdf(5, lam)\n",
    "p_gt_5 = 1 - p_le_5\n",
    "p_eq_5, p_le_5, p_gt_5"
   ],
   "id": "bbd87524e545792a"
  },
  {
   "metadata": {},
   "cell_type": "markdown",
   "source": [
    "## 4) The Exponential Distribution\n",
    "**Q10.** How is the exponential distribution related to the Poisson distribution?\n",
    "\n",
    "**A10.** If events occur according to a Poisson process with rate **λ** per unit time, then the **time between events** is exponential with **mean = 1/λ** (scale parameter)."
   ],
   "id": "3ef304bbcae64a1a"
  },
  {
   "metadata": {},
   "cell_type": "markdown",
   "source": "**Q11.** If tickets arrive on average every 2 minutes, simulate 1,000 wait times and estimate P(wait ≤ 1 min).",
   "id": "fe0f83c1b0c83e78"
  },
  {
   "metadata": {},
   "cell_type": "code",
   "outputs": [],
   "execution_count": null,
   "source": [
    "mean_wait = 2.0  # minutes\n",
    "waits = expon.rvs(mean_wait, size=1000)\n",
    "p_est = float(np.mean(waits <= 1))\n",
    "plt.figure()\n",
    "plt.hist(waits, bins=30)\n",
    "plt.title('Exponential(mean=2) — 1000 simulated waits')\n",
    "plt.xlabel('Minutes')\n",
    "plt.ylabel('Count')\n",
    "plt.show()\n",
    "p_est"
   ],
   "id": "cebf4d66b32f5950"
  },
  {
   "metadata": {},
   "cell_type": "markdown",
   "source": [
    "## 5) The t-Distribution\n",
    "**Q12.** What makes the t-distribution different from the normal distribution?\n",
    "\n",
    "**A12.** It has **heavier tails** controlled by **degrees of freedom (df)**. For small df, tails are thick; as df grows, it approaches the normal distribution."
   ],
   "id": "a60558c6ca951097"
  },
  {
   "metadata": {},
   "cell_type": "markdown",
   "source": "**Q13.** Simulate 5,000 draws from a t-like distribution with df=5 and compare its histogram to a standard normal (simulation-based).",
   "id": "d4bb95582b5367c7"
  },
  {
   "metadata": {
    "ExecuteTime": {
     "end_time": "2025-09-24T14:53:11.876357Z",
     "start_time": "2025-09-24T14:53:11.802134Z"
    }
   },
   "cell_type": "code",
   "source": [
    "t5 = t.rvs(df=5, size=5000)\n",
    "z = norm.rvs(0, 1, size=5000)\n",
    "plt.figure()\n",
    "plt.hist(t5, bins=50)\n",
    "plt.title('t-like (df=5) — 5000 draws')\n",
    "plt.xlabel('Value')\n",
    "plt.ylabel('Count')\n",
    "plt.show()\n",
    "\n",
    "plt.figure()\n",
    "plt.hist(z, bins=50)\n",
    "plt.title('Standard Normal — 5000 draws')\n",
    "plt.xlabel('Value')\n",
    "plt.ylabel('Count')\n",
    "plt.show()\n",
    "float(np.mean(t5)), float(np.std(t5, ddof=1)), float(np.mean(z)), float(np.std(z, ddof=1))"
   ],
   "id": "693de608880f78b1",
   "outputs": [
    {
     "ename": "NameError",
     "evalue": "name 't' is not defined",
     "output_type": "error",
     "traceback": [
      "\u001B[31m---------------------------------------------------------------------------\u001B[39m",
      "\u001B[31mNameError\u001B[39m                                 Traceback (most recent call last)",
      "\u001B[36mCell\u001B[39m\u001B[36m \u001B[39m\u001B[32mIn[10]\u001B[39m\u001B[32m, line 1\u001B[39m\n\u001B[32m----> \u001B[39m\u001B[32m1\u001B[39m t5 = \u001B[43mt\u001B[49m.rvs(df=\u001B[32m5\u001B[39m, size=\u001B[32m5000\u001B[39m)\n\u001B[32m      2\u001B[39m z = norm.rvs(\u001B[32m0\u001B[39m, \u001B[32m1\u001B[39m, size=\u001B[32m5000\u001B[39m)\n\u001B[32m      3\u001B[39m plt.figure()\n",
      "\u001B[31mNameError\u001B[39m: name 't' is not defined"
     ]
    }
   ],
   "execution_count": 10
  },
  {
   "metadata": {},
   "cell_type": "markdown",
   "source": [
    "## 6) The Mean of Means\n",
    "**Q14.** Using a strongly **right-skewed** distribution (log-normal), compute sample means for n=30 over 2,000 repetitions. What do you notice about the shape of the distribution of the means?"
   ],
   "id": "973e302a6885632b"
  },
  {
   "metadata": {},
   "cell_type": "code",
   "outputs": [],
   "execution_count": null,
   "source": [
    "# Simulate a skewed population (log-normal via exponentiating normal)\n",
    "skewed = np.exp(norm.rvs(0.0, 1.0, size=100000))\n",
    "\n",
    "def sample_means_from_array(arr, n, reps=2000):\n",
    "    means = []\n",
    "    for _ in range(reps):\n",
    "        idx = rng.integers(0, len(arr), size=n)\n",
    "        means.append(float(np.mean(arr[idx])))\n",
    "    return np.array(means)\n",
    "\n",
    "means_skewed_n30 = sample_means_from_array(skewed, n=30, reps=2000)\n",
    "plt.figure()\n",
    "plt.hist(means_skewed_n30, bins=40)\n",
    "plt.title('Sampling distribution of the mean from a skewed population (n=30)')\n",
    "plt.xlabel('Sample mean')\n",
    "plt.ylabel('Count')\n",
    "plt.show()\n",
    "float(np.mean(means_skewed_n30)), float(np.std(means_skewed_n30, ddof=1))"
   ],
   "id": "24e7d2079b405bfb"
  },
  {
   "metadata": {},
   "cell_type": "markdown",
   "source": [
    "## 7) Wrap-up\n",
    "- Normal distribution is defined by **μ** and **σ**; many histograms look roughly normal.\n",
    "- **CLT**: sampling distributions of means tend to normal as **n** grows.\n",
    "- **Poisson** counts events; **Exponential** models wait times; **t** handles small-sample uncertainty.\n",
    "- Simulation is your friend for building intuition."
   ],
   "id": "82c9fa5e7e83560f"
  }
 ],
 "metadata": {
  "kernelspec": {
   "display_name": "Python 3",
   "language": "python",
   "name": "python3"
  },
  "language_info": {
   "codemirror_mode": {
    "name": "ipython",
    "version": 2
   },
   "file_extension": ".py",
   "mimetype": "text/x-python",
   "name": "python",
   "nbconvert_exporter": "python",
   "pygments_lexer": "ipython2",
   "version": "2.7.6"
  }
 },
 "nbformat": 4,
 "nbformat_minor": 5
}
